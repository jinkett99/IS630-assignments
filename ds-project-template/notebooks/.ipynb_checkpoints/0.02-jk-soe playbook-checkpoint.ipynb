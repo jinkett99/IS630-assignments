{
 "cells": [
  {
   "cell_type": "markdown",
   "id": "3b0b185f-176f-4836-83b1-fc2e7fb6036f",
   "metadata": {},
   "source": [
    "### Read in SOE test data, convert .parquet to .csv file"
   ]
  },
  {
   "cell_type": "code",
   "execution_count": 1,
   "id": "daf0db42-074e-4771-abf3-1937325f40ab",
   "metadata": {},
   "outputs": [],
   "source": [
    "import pandas as pd\n",
    "filepath_soe = \"datasets/test_soe.parquet\"\n",
    "df = pd.read_parquet(filepath_soe)\n",
    "df.to_csv(\"datasets/test_soe.csv\", index=False)"
   ]
  },
  {
   "cell_type": "code",
   "execution_count": 2,
   "id": "ee0d1aee-304c-45e7-ae7b-3665dbc18b9f",
   "metadata": {},
   "outputs": [
    {
     "name": "stdout",
     "output_type": "stream",
     "text": [
      "<class 'pandas.core.frame.DataFrame'>\n",
      "Index: 13000 entries, 0 to 5999\n",
      "Data columns (total 8 columns):\n",
      " #   Column          Non-Null Count  Dtype  \n",
      "---  ------          --------------  -----  \n",
      " 0   UEN             13000 non-null  object \n",
      " 1   UEN_NO          13000 non-null  object \n",
      " 2   ECOM_REV        13000 non-null  float64\n",
      " 3   B2B_PERC        13000 non-null  float64\n",
      " 4   B2C_PERC        13000 non-null  float64\n",
      " 5   RETURN_STATUS   13000 non-null  object \n",
      " 6   PROCESS_STATUS  13000 non-null  object \n",
      " 7   REF_YR          13000 non-null  object \n",
      "dtypes: float64(3), object(5)\n",
      "memory usage: 914.1+ KB\n"
     ]
    }
   ],
   "source": [
    "df.info()"
   ]
  },
  {
   "cell_type": "code",
   "execution_count": 3,
   "id": "60f78255-a53a-4d1f-8645-0d16f0e43de5",
   "metadata": {},
   "outputs": [
    {
     "data": {
      "text/plain": [
       "0"
      ]
     },
     "execution_count": 3,
     "metadata": {},
     "output_type": "execute_result"
    }
   ],
   "source": [
    "df[\"ECOM_REV\"].isnull().sum()"
   ]
  },
  {
   "cell_type": "code",
   "execution_count": 4,
   "id": "c42f589b-ba82-45e5-9a3a-b3fa1d16eda1",
   "metadata": {},
   "outputs": [],
   "source": [
    "def process_dataframe(df):\n",
    "    # Step 1: Subset UEN_NO, ECOM_REV from df\n",
    "    df_subset = df[['UEN_NO', 'ECOM_REV']]\n",
    "    \n",
    "    # Step 2: Rename UEN_NO to UEN\n",
    "    df_subset.rename(columns={'UEN_NO': 'UEN'}, inplace=True)\n",
    "    \n",
    "    # Step 3: Create new column \"true_pred\"\n",
    "    df_subset['true_pred'] = df_subset['ECOM_REV'].apply(lambda x: 'C' if x > 0 else 'B')\n",
    "    \n",
    "    # Step 4: Drop ECOM_REV\n",
    "    df_subset.drop(columns=['ECOM_REV'], inplace=True)\n",
    "    \n",
    "    return df_subset"
   ]
  },
  {
   "cell_type": "code",
   "execution_count": 5,
   "id": "2ba93b5d-0fd2-4a58-b96e-70068219cec8",
   "metadata": {},
   "outputs": [
    {
     "name": "stderr",
     "output_type": "stream",
     "text": [
      "/tmp/ipykernel_51946/2020824264.py:6: SettingWithCopyWarning: \n",
      "A value is trying to be set on a copy of a slice from a DataFrame\n",
      "\n",
      "See the caveats in the documentation: https://pandas.pydata.org/pandas-docs/stable/user_guide/indexing.html#returning-a-view-versus-a-copy\n",
      "  df_subset.rename(columns={'UEN_NO': 'UEN'}, inplace=True)\n",
      "/tmp/ipykernel_51946/2020824264.py:9: SettingWithCopyWarning: \n",
      "A value is trying to be set on a copy of a slice from a DataFrame.\n",
      "Try using .loc[row_indexer,col_indexer] = value instead\n",
      "\n",
      "See the caveats in the documentation: https://pandas.pydata.org/pandas-docs/stable/user_guide/indexing.html#returning-a-view-versus-a-copy\n",
      "  df_subset['true_pred'] = df_subset['ECOM_REV'].apply(lambda x: 'C' if x > 0 else 'B')\n",
      "/tmp/ipykernel_51946/2020824264.py:12: SettingWithCopyWarning: \n",
      "A value is trying to be set on a copy of a slice from a DataFrame\n",
      "\n",
      "See the caveats in the documentation: https://pandas.pydata.org/pandas-docs/stable/user_guide/indexing.html#returning-a-view-versus-a-copy\n",
      "  df_subset.drop(columns=['ECOM_REV'], inplace=True)\n"
     ]
    }
   ],
   "source": [
    "df = process_dataframe(df)"
   ]
  },
  {
   "cell_type": "code",
   "execution_count": 6,
   "id": "4803d3fd-9713-4792-a46f-136306afcd30",
   "metadata": {},
   "outputs": [
    {
     "data": {
      "text/html": [
       "<div>\n",
       "<style scoped>\n",
       "    .dataframe tbody tr th:only-of-type {\n",
       "        vertical-align: middle;\n",
       "    }\n",
       "\n",
       "    .dataframe tbody tr th {\n",
       "        vertical-align: top;\n",
       "    }\n",
       "\n",
       "    .dataframe thead th {\n",
       "        text-align: right;\n",
       "    }\n",
       "</style>\n",
       "<table border=\"1\" class=\"dataframe\">\n",
       "  <thead>\n",
       "    <tr style=\"text-align: right;\">\n",
       "      <th></th>\n",
       "      <th>UEN</th>\n",
       "      <th>true_pred</th>\n",
       "    </tr>\n",
       "  </thead>\n",
       "  <tbody>\n",
       "    <tr>\n",
       "      <th>0</th>\n",
       "      <td>00641000J</td>\n",
       "      <td>B</td>\n",
       "    </tr>\n",
       "    <tr>\n",
       "      <th>1</th>\n",
       "      <td>04111800J</td>\n",
       "      <td>B</td>\n",
       "    </tr>\n",
       "    <tr>\n",
       "      <th>2</th>\n",
       "      <td>04155000E</td>\n",
       "      <td>B</td>\n",
       "    </tr>\n",
       "    <tr>\n",
       "      <th>3</th>\n",
       "      <td>04479200W</td>\n",
       "      <td>B</td>\n",
       "    </tr>\n",
       "    <tr>\n",
       "      <th>4</th>\n",
       "      <td>04559000A</td>\n",
       "      <td>B</td>\n",
       "    </tr>\n",
       "  </tbody>\n",
       "</table>\n",
       "</div>"
      ],
      "text/plain": [
       "         UEN true_pred\n",
       "0  00641000J         B\n",
       "1  04111800J         B\n",
       "2  04155000E         B\n",
       "3  04479200W         B\n",
       "4  04559000A         B"
      ]
     },
     "execution_count": 6,
     "metadata": {},
     "output_type": "execute_result"
    }
   ],
   "source": [
    "df.head()"
   ]
  },
  {
   "cell_type": "code",
   "execution_count": 7,
   "id": "5736e4a4-94b5-444c-be4c-a54ab9648079",
   "metadata": {},
   "outputs": [
    {
     "data": {
      "text/plain": [
       "true_pred\n",
       "B    11531\n",
       "C     1469\n",
       "Name: count, dtype: int64"
      ]
     },
     "execution_count": 7,
     "metadata": {},
     "output_type": "execute_result"
    }
   ],
   "source": [
    "df[\"true_pred\"].value_counts()"
   ]
  },
  {
   "cell_type": "code",
   "execution_count": 8,
   "id": "646d7ece-07a9-4869-9bec-0765bc15601b",
   "metadata": {},
   "outputs": [],
   "source": [
    "# save dataframe df\n",
    "df.to_csv(\"datasets/soe_test.csv\", index=False)"
   ]
  },
  {
   "cell_type": "markdown",
   "id": "321509a0-ebde-46be-9aae-8a6377538d11",
   "metadata": {},
   "source": [
    "### Merge SOE test dataset with keyword counts for modelling"
   ]
  },
  {
   "cell_type": "code",
   "execution_count": 9,
   "id": "880526f4-e336-4fdd-9810-919e962fe0ce",
   "metadata": {},
   "outputs": [
    {
     "data": {
      "text/html": [
       "<div>\n",
       "<style scoped>\n",
       "    .dataframe tbody tr th:only-of-type {\n",
       "        vertical-align: middle;\n",
       "    }\n",
       "\n",
       "    .dataframe tbody tr th {\n",
       "        vertical-align: top;\n",
       "    }\n",
       "\n",
       "    .dataframe thead th {\n",
       "        text-align: right;\n",
       "    }\n",
       "</style>\n",
       "<table border=\"1\" class=\"dataframe\">\n",
       "  <thead>\n",
       "    <tr style=\"text-align: right;\">\n",
       "      <th></th>\n",
       "      <th>INDEX</th>\n",
       "      <th>NAME</th>\n",
       "      <th>UEN</th>\n",
       "      <th>WEBSITE</th>\n",
       "      <th>SOURCE</th>\n",
       "      <th>$</th>\n",
       "      <th>account</th>\n",
       "      <th>accreditation</th>\n",
       "      <th>add card</th>\n",
       "      <th>add to bag</th>\n",
       "      <th>...</th>\n",
       "      <th>vpn</th>\n",
       "      <th>wallet</th>\n",
       "      <th>web design</th>\n",
       "      <th>webdesign</th>\n",
       "      <th>what we do</th>\n",
       "      <th>wishlist</th>\n",
       "      <th>wix</th>\n",
       "      <th>woocommerce</th>\n",
       "      <th>youtube</th>\n",
       "      <th>sum</th>\n",
       "    </tr>\n",
       "  </thead>\n",
       "  <tbody>\n",
       "    <tr>\n",
       "      <th>0</th>\n",
       "      <td>1</td>\n",
       "      <td>TRAFIGURA PTE LTD</td>\n",
       "      <td>199601595D</td>\n",
       "      <td>www.trafigura.com</td>\n",
       "      <td>ORBIS</td>\n",
       "      <td>6</td>\n",
       "      <td>5</td>\n",
       "      <td>4</td>\n",
       "      <td>4</td>\n",
       "      <td>4</td>\n",
       "      <td>...</td>\n",
       "      <td>4.0</td>\n",
       "      <td>4.0</td>\n",
       "      <td>4.0</td>\n",
       "      <td>4.0</td>\n",
       "      <td>18.0</td>\n",
       "      <td>4.0</td>\n",
       "      <td>4.0</td>\n",
       "      <td>4.0</td>\n",
       "      <td>4.0</td>\n",
       "      <td>4981.0</td>\n",
       "    </tr>\n",
       "    <tr>\n",
       "      <th>1</th>\n",
       "      <td>2</td>\n",
       "      <td>TRAFIGURA GROUP PTE. LTD.</td>\n",
       "      <td>201017488D</td>\n",
       "      <td>www.trafigura.com</td>\n",
       "      <td>ORBIS</td>\n",
       "      <td>6</td>\n",
       "      <td>5</td>\n",
       "      <td>4</td>\n",
       "      <td>4</td>\n",
       "      <td>4</td>\n",
       "      <td>...</td>\n",
       "      <td>4.0</td>\n",
       "      <td>4.0</td>\n",
       "      <td>4.0</td>\n",
       "      <td>4.0</td>\n",
       "      <td>18.0</td>\n",
       "      <td>4.0</td>\n",
       "      <td>4.0</td>\n",
       "      <td>4.0</td>\n",
       "      <td>4.0</td>\n",
       "      <td>4980.0</td>\n",
       "    </tr>\n",
       "    <tr>\n",
       "      <th>2</th>\n",
       "      <td>3</td>\n",
       "      <td>APPLE SOUTH ASIA PTE. LTD.</td>\n",
       "      <td>198903166R</td>\n",
       "      <td>www.apple.com</td>\n",
       "      <td>ORBIS</td>\n",
       "      <td>38</td>\n",
       "      <td>36</td>\n",
       "      <td>4</td>\n",
       "      <td>4</td>\n",
       "      <td>4</td>\n",
       "      <td>...</td>\n",
       "      <td>4.0</td>\n",
       "      <td>39.0</td>\n",
       "      <td>4.0</td>\n",
       "      <td>4.0</td>\n",
       "      <td>4.0</td>\n",
       "      <td>4.0</td>\n",
       "      <td>4.0</td>\n",
       "      <td>4.0</td>\n",
       "      <td>8.0</td>\n",
       "      <td>11423.0</td>\n",
       "    </tr>\n",
       "    <tr>\n",
       "      <th>3</th>\n",
       "      <td>4</td>\n",
       "      <td>WILMAR INTERNATIONAL LIMITED</td>\n",
       "      <td>199904785Z</td>\n",
       "      <td>www.wilmar-international.com</td>\n",
       "      <td>ORBIS</td>\n",
       "      <td>33</td>\n",
       "      <td>4</td>\n",
       "      <td>4</td>\n",
       "      <td>4</td>\n",
       "      <td>4</td>\n",
       "      <td>...</td>\n",
       "      <td>10.0</td>\n",
       "      <td>4.0</td>\n",
       "      <td>4.0</td>\n",
       "      <td>4.0</td>\n",
       "      <td>4.0</td>\n",
       "      <td>4.0</td>\n",
       "      <td>50.0</td>\n",
       "      <td>4.0</td>\n",
       "      <td>4.0</td>\n",
       "      <td>4823.0</td>\n",
       "    </tr>\n",
       "    <tr>\n",
       "      <th>4</th>\n",
       "      <td>5</td>\n",
       "      <td>TEMASEK HOLDINGS (PRIVATE) LIMITED</td>\n",
       "      <td>197401143C</td>\n",
       "      <td>www.temasek.com.sg</td>\n",
       "      <td>ORBIS</td>\n",
       "      <td>16</td>\n",
       "      <td>4</td>\n",
       "      <td>3</td>\n",
       "      <td>3</td>\n",
       "      <td>3</td>\n",
       "      <td>...</td>\n",
       "      <td>3.0</td>\n",
       "      <td>3.0</td>\n",
       "      <td>3.0</td>\n",
       "      <td>3.0</td>\n",
       "      <td>3.0</td>\n",
       "      <td>3.0</td>\n",
       "      <td>3.0</td>\n",
       "      <td>3.0</td>\n",
       "      <td>28.0</td>\n",
       "      <td>3588.0</td>\n",
       "    </tr>\n",
       "  </tbody>\n",
       "</table>\n",
       "<p>5 rows × 221 columns</p>\n",
       "</div>"
      ],
      "text/plain": [
       "   INDEX                                NAME         UEN  \\\n",
       "0      1                   TRAFIGURA PTE LTD  199601595D   \n",
       "1      2           TRAFIGURA GROUP PTE. LTD.  201017488D   \n",
       "2      3          APPLE SOUTH ASIA PTE. LTD.  198903166R   \n",
       "3      4        WILMAR INTERNATIONAL LIMITED  199904785Z   \n",
       "4      5  TEMASEK HOLDINGS (PRIVATE) LIMITED  197401143C   \n",
       "\n",
       "                        WEBSITE SOURCE   $  account  accreditation  add card  \\\n",
       "0             www.trafigura.com  ORBIS   6        5              4         4   \n",
       "1             www.trafigura.com  ORBIS   6        5              4         4   \n",
       "2                 www.apple.com  ORBIS  38       36              4         4   \n",
       "3  www.wilmar-international.com  ORBIS  33        4              4         4   \n",
       "4            www.temasek.com.sg  ORBIS  16        4              3         3   \n",
       "\n",
       "   add to bag  ...   vpn  wallet  web design  webdesign  what we do  wishlist  \\\n",
       "0           4  ...   4.0     4.0         4.0        4.0        18.0       4.0   \n",
       "1           4  ...   4.0     4.0         4.0        4.0        18.0       4.0   \n",
       "2           4  ...   4.0    39.0         4.0        4.0         4.0       4.0   \n",
       "3           4  ...  10.0     4.0         4.0        4.0         4.0       4.0   \n",
       "4           3  ...   3.0     3.0         3.0        3.0         3.0       3.0   \n",
       "\n",
       "    wix  woocommerce  youtube      sum  \n",
       "0   4.0          4.0      4.0   4981.0  \n",
       "1   4.0          4.0      4.0   4980.0  \n",
       "2   4.0          4.0      8.0  11423.0  \n",
       "3  50.0          4.0      4.0   4823.0  \n",
       "4   3.0          3.0     28.0   3588.0  \n",
       "\n",
       "[5 rows x 221 columns]"
      ]
     },
     "execution_count": 9,
     "metadata": {},
     "output_type": "execute_result"
    }
   ],
   "source": [
    "# import keyword_df\n",
    "keyword_df = pd.read_csv(\"datasets/IE2023_keywordcounts.csv\")\n",
    "keyword_df.head()"
   ]
  },
  {
   "cell_type": "code",
   "execution_count": 10,
   "id": "25e90c00-afd1-4474-81ae-5949c5d783ee",
   "metadata": {},
   "outputs": [],
   "source": [
    "def merge_dataframes(df, keyword_df):\n",
    "    merged_df = pd.merge(df, keyword_df, on='UEN', how='inner')\n",
    "    merged_df.drop(columns=['true_pred'], inplace=True)  # Drop the 'true_pred'\n",
    "    return merged_df"
   ]
  },
  {
   "cell_type": "code",
   "execution_count": 11,
   "id": "2c6f55dd-2a3c-4ae0-affb-afd6feb06f04",
   "metadata": {},
   "outputs": [
    {
     "data": {
      "text/html": [
       "<div>\n",
       "<style scoped>\n",
       "    .dataframe tbody tr th:only-of-type {\n",
       "        vertical-align: middle;\n",
       "    }\n",
       "\n",
       "    .dataframe tbody tr th {\n",
       "        vertical-align: top;\n",
       "    }\n",
       "\n",
       "    .dataframe thead th {\n",
       "        text-align: right;\n",
       "    }\n",
       "</style>\n",
       "<table border=\"1\" class=\"dataframe\">\n",
       "  <thead>\n",
       "    <tr style=\"text-align: right;\">\n",
       "      <th></th>\n",
       "      <th>UEN</th>\n",
       "      <th>INDEX</th>\n",
       "      <th>NAME</th>\n",
       "      <th>WEBSITE</th>\n",
       "      <th>SOURCE</th>\n",
       "      <th>$</th>\n",
       "      <th>account</th>\n",
       "      <th>accreditation</th>\n",
       "      <th>add card</th>\n",
       "      <th>add to bag</th>\n",
       "      <th>...</th>\n",
       "      <th>vpn</th>\n",
       "      <th>wallet</th>\n",
       "      <th>web design</th>\n",
       "      <th>webdesign</th>\n",
       "      <th>what we do</th>\n",
       "      <th>wishlist</th>\n",
       "      <th>wix</th>\n",
       "      <th>woocommerce</th>\n",
       "      <th>youtube</th>\n",
       "      <th>sum</th>\n",
       "    </tr>\n",
       "  </thead>\n",
       "  <tbody>\n",
       "    <tr>\n",
       "      <th>0</th>\n",
       "      <td>196000058W</td>\n",
       "      <td>6528</td>\n",
       "      <td>NAM WAN TEA CO. (PRIVATE) LTD.</td>\n",
       "      <td>tching.com</td>\n",
       "      <td>ORBIS</td>\n",
       "      <td>68</td>\n",
       "      <td>3</td>\n",
       "      <td>3</td>\n",
       "      <td>3</td>\n",
       "      <td>3</td>\n",
       "      <td>...</td>\n",
       "      <td>3.0</td>\n",
       "      <td>3.0</td>\n",
       "      <td>3.0</td>\n",
       "      <td>3.0</td>\n",
       "      <td>3.0</td>\n",
       "      <td>3.0</td>\n",
       "      <td>3.0</td>\n",
       "      <td>3.0</td>\n",
       "      <td>11.0</td>\n",
       "      <td>3542.0</td>\n",
       "    </tr>\n",
       "    <tr>\n",
       "      <th>1</th>\n",
       "      <td>196400122D</td>\n",
       "      <td>2531</td>\n",
       "      <td>INGERSOLL-RAND SOUTH EAST ASIA (PRIVATE) LIMITED</td>\n",
       "      <td>www.irco.com</td>\n",
       "      <td>ORBIS</td>\n",
       "      <td>8</td>\n",
       "      <td>1</td>\n",
       "      <td>1</td>\n",
       "      <td>1</td>\n",
       "      <td>1</td>\n",
       "      <td>...</td>\n",
       "      <td>2.0</td>\n",
       "      <td>1.0</td>\n",
       "      <td>1.0</td>\n",
       "      <td>1.0</td>\n",
       "      <td>1.0</td>\n",
       "      <td>1.0</td>\n",
       "      <td>1.0</td>\n",
       "      <td>1.0</td>\n",
       "      <td>2.0</td>\n",
       "      <td>5369.0</td>\n",
       "    </tr>\n",
       "    <tr>\n",
       "      <th>2</th>\n",
       "      <td>197300451R</td>\n",
       "      <td>1568</td>\n",
       "      <td>HITACHI HIGH-TECH (SINGAPORE) PTE. LTD.</td>\n",
       "      <td>www.hitachi-hightech.com</td>\n",
       "      <td>ORBIS</td>\n",
       "      <td>12</td>\n",
       "      <td>1</td>\n",
       "      <td>1</td>\n",
       "      <td>1</td>\n",
       "      <td>1</td>\n",
       "      <td>...</td>\n",
       "      <td>1.0</td>\n",
       "      <td>1.0</td>\n",
       "      <td>1.0</td>\n",
       "      <td>1.0</td>\n",
       "      <td>1.0</td>\n",
       "      <td>1.0</td>\n",
       "      <td>1.0</td>\n",
       "      <td>1.0</td>\n",
       "      <td>1.0</td>\n",
       "      <td>676.0</td>\n",
       "    </tr>\n",
       "    <tr>\n",
       "      <th>3</th>\n",
       "      <td>197400260M</td>\n",
       "      <td>2380</td>\n",
       "      <td>NACHI SINGAPORE PRIVATE LIMITED.</td>\n",
       "      <td>www.nachinip.com.sg</td>\n",
       "      <td>ORBIS</td>\n",
       "      <td>1</td>\n",
       "      <td>1</td>\n",
       "      <td>1</td>\n",
       "      <td>1</td>\n",
       "      <td>1</td>\n",
       "      <td>...</td>\n",
       "      <td>1.0</td>\n",
       "      <td>1.0</td>\n",
       "      <td>1.0</td>\n",
       "      <td>1.0</td>\n",
       "      <td>1.0</td>\n",
       "      <td>1.0</td>\n",
       "      <td>1.0</td>\n",
       "      <td>1.0</td>\n",
       "      <td>1.0</td>\n",
       "      <td>219.0</td>\n",
       "    </tr>\n",
       "    <tr>\n",
       "      <th>4</th>\n",
       "      <td>197400730G</td>\n",
       "      <td>554</td>\n",
       "      <td>SIIX SINGAPORE PTE. LTD.</td>\n",
       "      <td>www.siix.co.jp</td>\n",
       "      <td>ORBIS</td>\n",
       "      <td>1</td>\n",
       "      <td>1</td>\n",
       "      <td>1</td>\n",
       "      <td>1</td>\n",
       "      <td>1</td>\n",
       "      <td>...</td>\n",
       "      <td>1.0</td>\n",
       "      <td>1.0</td>\n",
       "      <td>1.0</td>\n",
       "      <td>1.0</td>\n",
       "      <td>1.0</td>\n",
       "      <td>1.0</td>\n",
       "      <td>1.0</td>\n",
       "      <td>1.0</td>\n",
       "      <td>4.0</td>\n",
       "      <td>1878.0</td>\n",
       "    </tr>\n",
       "  </tbody>\n",
       "</table>\n",
       "<p>5 rows × 221 columns</p>\n",
       "</div>"
      ],
      "text/plain": [
       "          UEN  INDEX                                              NAME  \\\n",
       "0  196000058W   6528                    NAM WAN TEA CO. (PRIVATE) LTD.   \n",
       "1  196400122D   2531  INGERSOLL-RAND SOUTH EAST ASIA (PRIVATE) LIMITED   \n",
       "2  197300451R   1568           HITACHI HIGH-TECH (SINGAPORE) PTE. LTD.   \n",
       "3  197400260M   2380                  NACHI SINGAPORE PRIVATE LIMITED.   \n",
       "4  197400730G    554                          SIIX SINGAPORE PTE. LTD.   \n",
       "\n",
       "                    WEBSITE SOURCE   $  account  accreditation  add card  \\\n",
       "0                tching.com  ORBIS  68        3              3         3   \n",
       "1              www.irco.com  ORBIS   8        1              1         1   \n",
       "2  www.hitachi-hightech.com  ORBIS  12        1              1         1   \n",
       "3       www.nachinip.com.sg  ORBIS   1        1              1         1   \n",
       "4            www.siix.co.jp  ORBIS   1        1              1         1   \n",
       "\n",
       "   add to bag  ...  vpn  wallet  web design  webdesign  what we do  wishlist  \\\n",
       "0           3  ...  3.0     3.0         3.0        3.0         3.0       3.0   \n",
       "1           1  ...  2.0     1.0         1.0        1.0         1.0       1.0   \n",
       "2           1  ...  1.0     1.0         1.0        1.0         1.0       1.0   \n",
       "3           1  ...  1.0     1.0         1.0        1.0         1.0       1.0   \n",
       "4           1  ...  1.0     1.0         1.0        1.0         1.0       1.0   \n",
       "\n",
       "   wix  woocommerce  youtube     sum  \n",
       "0  3.0          3.0     11.0  3542.0  \n",
       "1  1.0          1.0      2.0  5369.0  \n",
       "2  1.0          1.0      1.0   676.0  \n",
       "3  1.0          1.0      1.0   219.0  \n",
       "4  1.0          1.0      4.0  1878.0  \n",
       "\n",
       "[5 rows x 221 columns]"
      ]
     },
     "execution_count": 11,
     "metadata": {},
     "output_type": "execute_result"
    }
   ],
   "source": [
    "data = merge_dataframes(df, keyword_df)\n",
    "data.head()"
   ]
  },
  {
   "cell_type": "code",
   "execution_count": 12,
   "id": "35bc9f54-ac3c-428f-84df-945614292d9c",
   "metadata": {},
   "outputs": [
    {
     "data": {
      "text/plain": [
       "2381"
      ]
     },
     "execution_count": 12,
     "metadata": {},
     "output_type": "execute_result"
    }
   ],
   "source": [
    "len(data)"
   ]
  },
  {
   "cell_type": "code",
   "execution_count": 13,
   "id": "37a630bd-72a9-4852-b732-c08a2eced61a",
   "metadata": {},
   "outputs": [],
   "source": [
    "# save to csv\n",
    "data.to_csv(\"datasets/for_pred.csv\", index=False)"
   ]
  },
  {
   "cell_type": "markdown",
   "id": "9b5e322f-1f4c-476f-a526-11378261c47d",
   "metadata": {},
   "source": [
    "### Import classified dataset, merge back with true labels & run classification report."
   ]
  },
  {
   "cell_type": "code",
   "execution_count": 14,
   "id": "5c8ade16-b9dc-4ed6-8299-0749faa32500",
   "metadata": {},
   "outputs": [
    {
     "data": {
      "text/html": [
       "<div>\n",
       "<style scoped>\n",
       "    .dataframe tbody tr th:only-of-type {\n",
       "        vertical-align: middle;\n",
       "    }\n",
       "\n",
       "    .dataframe tbody tr th {\n",
       "        vertical-align: top;\n",
       "    }\n",
       "\n",
       "    .dataframe thead th {\n",
       "        text-align: right;\n",
       "    }\n",
       "</style>\n",
       "<table border=\"1\" class=\"dataframe\">\n",
       "  <thead>\n",
       "    <tr style=\"text-align: right;\">\n",
       "      <th></th>\n",
       "      <th>UEN</th>\n",
       "      <th>pred_label</th>\n",
       "    </tr>\n",
       "  </thead>\n",
       "  <tbody>\n",
       "    <tr>\n",
       "      <th>0</th>\n",
       "      <td>196000058W</td>\n",
       "      <td>C</td>\n",
       "    </tr>\n",
       "    <tr>\n",
       "      <th>1</th>\n",
       "      <td>196400122D</td>\n",
       "      <td>B</td>\n",
       "    </tr>\n",
       "    <tr>\n",
       "      <th>2</th>\n",
       "      <td>197300451R</td>\n",
       "      <td>B</td>\n",
       "    </tr>\n",
       "    <tr>\n",
       "      <th>3</th>\n",
       "      <td>197400260M</td>\n",
       "      <td>B</td>\n",
       "    </tr>\n",
       "    <tr>\n",
       "      <th>4</th>\n",
       "      <td>197400730G</td>\n",
       "      <td>B</td>\n",
       "    </tr>\n",
       "  </tbody>\n",
       "</table>\n",
       "</div>"
      ],
      "text/plain": [
       "          UEN pred_label\n",
       "0  196000058W          C\n",
       "1  196400122D          B\n",
       "2  197300451R          B\n",
       "3  197400260M          B\n",
       "4  197400730G          B"
      ]
     },
     "execution_count": 14,
     "metadata": {},
     "output_type": "execute_result"
    }
   ],
   "source": [
    "pred = pd.read_csv('datasets/soe_classifiedv1.csv')\n",
    "pred = pred[[\"UEN\", \"pred_label\"]]\n",
    "pred.head()"
   ]
  },
  {
   "cell_type": "code",
   "execution_count": 15,
   "id": "2f985780-4122-4381-b278-9c1181bd79ba",
   "metadata": {},
   "outputs": [
    {
     "data": {
      "text/plain": [
       "2381"
      ]
     },
     "execution_count": 15,
     "metadata": {},
     "output_type": "execute_result"
    }
   ],
   "source": [
    "len(pred)"
   ]
  },
  {
   "cell_type": "code",
   "execution_count": 16,
   "id": "b3bdf77b-6906-4f2c-8879-e7cea7701410",
   "metadata": {},
   "outputs": [
    {
     "data": {
      "text/html": [
       "<div>\n",
       "<style scoped>\n",
       "    .dataframe tbody tr th:only-of-type {\n",
       "        vertical-align: middle;\n",
       "    }\n",
       "\n",
       "    .dataframe tbody tr th {\n",
       "        vertical-align: top;\n",
       "    }\n",
       "\n",
       "    .dataframe thead th {\n",
       "        text-align: right;\n",
       "    }\n",
       "</style>\n",
       "<table border=\"1\" class=\"dataframe\">\n",
       "  <thead>\n",
       "    <tr style=\"text-align: right;\">\n",
       "      <th></th>\n",
       "      <th>UEN</th>\n",
       "      <th>true_pred</th>\n",
       "      <th>pred_label</th>\n",
       "    </tr>\n",
       "  </thead>\n",
       "  <tbody>\n",
       "    <tr>\n",
       "      <th>0</th>\n",
       "      <td>196000058W</td>\n",
       "      <td>B</td>\n",
       "      <td>C</td>\n",
       "    </tr>\n",
       "    <tr>\n",
       "      <th>1</th>\n",
       "      <td>196400122D</td>\n",
       "      <td>B</td>\n",
       "      <td>B</td>\n",
       "    </tr>\n",
       "    <tr>\n",
       "      <th>2</th>\n",
       "      <td>197300451R</td>\n",
       "      <td>B</td>\n",
       "      <td>B</td>\n",
       "    </tr>\n",
       "    <tr>\n",
       "      <th>3</th>\n",
       "      <td>197400260M</td>\n",
       "      <td>B</td>\n",
       "      <td>B</td>\n",
       "    </tr>\n",
       "    <tr>\n",
       "      <th>4</th>\n",
       "      <td>197400730G</td>\n",
       "      <td>B</td>\n",
       "      <td>B</td>\n",
       "    </tr>\n",
       "  </tbody>\n",
       "</table>\n",
       "</div>"
      ],
      "text/plain": [
       "          UEN true_pred pred_label\n",
       "0  196000058W         B          C\n",
       "1  196400122D         B          B\n",
       "2  197300451R         B          B\n",
       "3  197400260M         B          B\n",
       "4  197400730G         B          B"
      ]
     },
     "execution_count": 16,
     "metadata": {},
     "output_type": "execute_result"
    }
   ],
   "source": [
    "# merge with true predictions\n",
    "merged_df = pd.merge(df, pred, on='UEN', how='inner')\n",
    "merged_df.head()"
   ]
  },
  {
   "cell_type": "code",
   "execution_count": 19,
   "id": "da2484d9-af4d-4a37-b4dc-57c4d556954d",
   "metadata": {},
   "outputs": [
    {
     "data": {
      "image/png": "[encoded data removed]",
      "text/plain": [
       "<Figure size 1000x600 with 2 Axes>"
      ]
     },
     "metadata": {},
     "output_type": "display_data"
    },
    {
     "data": {
      "image/png": "[encoded data removed]",
      "text/plain": [
       "<Figure size 640x480 with 2 Axes>"
      ]
     },
     "metadata": {},
     "output_type": "display_data"
    },
    {
     "data": {
      "text/plain": [
       "(0.7299454010919781,\n",
       "               precision    recall  f1-score      support\n",
       " B              0.903282  0.767613  0.829939  2044.000000\n",
       " C              0.262422  0.501484  0.344546   337.000000\n",
       " accuracy       0.729945  0.729945  0.729945     0.729945\n",
       " macro avg      0.582852  0.634548  0.587243  2381.000000\n",
       " weighted avg   0.812576  0.729945  0.761238  2381.000000)"
      ]
     },
     "execution_count": 19,
     "metadata": {},
     "output_type": "execute_result"
    }
   ],
   "source": [
    "import pandas as pd\n",
    "from sklearn.metrics import accuracy_score, classification_report, ConfusionMatrixDisplay\n",
    "import matplotlib.pyplot as plt\n",
    "import seaborn as sns\n",
    "\n",
    "def evaluate_model(merged_df):\n",
    "    # Extract true labels and predicted labels\n",
    "    y_true = merged_df['true_pred']\n",
    "    y_pred = merged_df['pred_label']\n",
    "    \n",
    "    # Calculate accuracy\n",
    "    accuracy = accuracy_score(y_true, y_pred)\n",
    "    \n",
    "    # Generate classification report\n",
    "    class_report = classification_report(y_true, y_pred, output_dict=True)\n",
    "    \n",
    "    # Convert classification report to DataFrame for better visualization\n",
    "    class_report_df = pd.DataFrame(class_report).transpose()\n",
    "    \n",
    "    # Plot classification report\n",
    "    plt.figure(figsize=(10, 6))\n",
    "    sns.heatmap(class_report_df.iloc[:-1, :].T, annot=True, cmap='Blues', fmt='.2f')\n",
    "    plt.title('Classification Report')\n",
    "    plt.show()\n",
    "    \n",
    "    # Plot confusion matrix\n",
    "    ConfusionMatrixDisplay.from_predictions(y_true, y_pred, cmap='Blues')\n",
    "    plt.title('Confusion Matrix')\n",
    "    plt.show()\n",
    "    \n",
    "    return accuracy, class_report_df\n",
    "\n",
    "# Example usage:\n",
    "evaluate_model(merged_df)"
   ]
  },
  {
   "cell_type": "code",
   "execution_count": 20,
   "id": "b206751f-5b0e-4a7c-8b4a-fb4dbc1d2f86",
   "metadata": {},
   "outputs": [
    {
     "data": {
      "text/plain": [
       "true_pred\n",
       "B    0.858463\n",
       "C    0.141537\n",
       "Name: proportion, dtype: float64"
      ]
     },
     "execution_count": 20,
     "metadata": {},
     "output_type": "execute_result"
    }
   ],
   "source": [
    "merged_df[\"true_pred\"].value_counts(normalize=True)"
   ]
  },
  {
   "cell_type": "code",
   "execution_count": null,
   "id": "b5212497-23ee-4942-a14c-ca06d0709e5c",
   "metadata": {},
   "outputs": [],
   "source": [
    "# conclusion: unlikely that \"2021 ML model\" overestimated the proportion of class \"C\" labels in 2023. \n",
    "# Next step: Check-in on 2022 results.\n",
    "# Potential solution: Train RF model on 2021 data, predict 2022 data (firms with websites - B & C), re-run imputation steps."
   ]
  }
 ],
 "metadata": {
  "kernelspec": {
   "display_name": "Python 3 (ipykernel)",
   "language": "python",
   "name": "python3"
  },
  "language_info": {
   "codemirror_mode": {
    "name": "ipython",
    "version": 3
   },
   "file_extension": ".py",
   "mimetype": "text/x-python",
   "name": "python",
   "nbconvert_exporter": "python",
   "pygments_lexer": "ipython3",
   "version": "3.9.15"
  }
 },
 "nbformat": 4,
 "nbformat_minor": 5
}
