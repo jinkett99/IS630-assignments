{
 "cells": [
  {
   "cell_type": "markdown",
   "id": "b889b014-27e3-4412-961e-7b74d171fe97",
   "metadata": {},
   "source": [
    "## Dependencies!"
   ]
  },
  {
   "cell_type": "code",
   "execution_count": null,
   "id": "89519278-0076-4d4f-bb90-947cbb05a51c",
   "metadata": {},
   "outputs": [],
   "source": [
    "# add src dir to sys.path\n",
    "import sys\n",
    "sys.path.append('../src')\n",
    "# sys.path.append('../data/raw')"
   ]
  },
  {
   "cell_type": "code",
   "execution_count": null,
   "id": "1b025e6b-731e-471f-805a-86c83a4266ad",
   "metadata": {},
   "outputs": [
    {
     "name": "stdout",
     "output_type": "stream",
     "text": [
      "['/nas-p1/dosfs/BSD/FLAD/End_User/JKYEE/IE2023/IE_project/notebooks', '/opt/python/3.9.15/lib/python39.zip', '/opt/python/3.9.15/lib/python3.9', '/opt/python/3.9.15/lib/python3.9/lib-dynload', '', '/home/jkyee/.local/lib/python3.9/site-packages', '/opt/python/3.9.15/lib/python3.9/site-packages', '../src']\n"
     ]
    }
   ],
   "source": [
    "print(sys.path)"
   ]
  },
  {
   "cell_type": "code",
   "execution_count": null,
   "id": "15fab31e-9f4a-463d-b570-f5388552cb98",
   "metadata": {},
   "outputs": [
    {
     "name": "stderr",
     "output_type": "stream",
     "text": [
      "2024-09-03 18:55:45,800 - config - INFO - PROJ_ROOT path is: /nas-p1/dosfs/BSD/FLAD/End_User/JKYEE/IE2023/IE_project\n"
     ]
    }
   ],
   "source": [
    "# import dependencies\n",
    "import pandas as pd\n",
    "import pyreadstat\n",
    "from dataset import process_dataset, imputation_v1"
   ]
  },
  {
   "cell_type": "markdown",
   "id": "37ac6473-d564-43b0-a666-af149d72a677",
   "metadata": {},
   "source": [
    "## Process SOE dataset to obtain website filter with TRUE labels ('B', 'C')"
   ]
  },
  {
   "cell_type": "code",
   "execution_count": null,
   "id": "fa8426b7-344c-459b-9e89-3c93855abb57",
   "metadata": {},
   "outputs": [],
   "source": [
    "%load_ext autoreload\n",
    "%autoreload 2"
   ]
  },
  {
   "cell_type": "code",
   "execution_count": null,
   "id": "3403c056-fbce-4a19-92d7-5521dfa89e7b",
   "metadata": {},
   "outputs": [
    {
     "name": "stderr",
     "output_type": "stream",
     "text": [
      "2024-09-03 18:26:53,414 - config - INFO - Loading dataset from /nas-p1/dosfs/BSD/FLAD/End_User/JKYEE/IE2023/IE_project/data/raw/soe22_dc.sas7bdat\n",
      "2024-09-03 18:26:53,593 - config - INFO - Saving processed dataset to /nas-p1/dosfs/BSD/FLAD/End_User/JKYEE/IE2023/IE_project/data/processed/soe2022_labelled.csv\n"
     ]
    }
   ],
   "source": [
    "check = process_dataset('soe22_dc.sas7bdat', 'soe2022_labelled.csv')"
   ]
  },
  {
   "cell_type": "code",
   "execution_count": null,
   "id": "80924c59-3217-4425-bce5-9ec46c45accb",
   "metadata": {},
   "outputs": [
    {
     "data": {
      "text/html": [
       "<div>\n",
       "<style scoped>\n",
       "    .dataframe tbody tr th:only-of-type {\n",
       "        vertical-align: middle;\n",
       "    }\n",
       "\n",
       "    .dataframe tbody tr th {\n",
       "        vertical-align: top;\n",
       "    }\n",
       "\n",
       "    .dataframe thead th {\n",
       "        text-align: right;\n",
       "    }\n",
       "</style>\n",
       "<table border=\"1\" class=\"dataframe\">\n",
       "  <thead>\n",
       "    <tr style=\"text-align: right;\">\n",
       "      <th></th>\n",
       "      <th>UEN</th>\n",
       "      <th>ONLINE_PRESENCE_IND</th>\n",
       "      <th>CORPORATE_URL_IND</th>\n",
       "      <th>ECOM_REV</th>\n",
       "      <th>ECOM_REV_IND</th>\n",
       "      <th>TRUE_IE</th>\n",
       "    </tr>\n",
       "  </thead>\n",
       "  <tbody>\n",
       "    <tr>\n",
       "      <th>0</th>\n",
       "      <td>00119300K</td>\n",
       "      <td>1.0</td>\n",
       "      <td>0.0</td>\n",
       "      <td>0.0</td>\n",
       "      <td>0.0</td>\n",
       "      <td>B</td>\n",
       "    </tr>\n",
       "    <tr>\n",
       "      <th>2</th>\n",
       "      <td>00277200X</td>\n",
       "      <td>1.0</td>\n",
       "      <td>1.0</td>\n",
       "      <td>250000.0</td>\n",
       "      <td>1.0</td>\n",
       "      <td>C</td>\n",
       "    </tr>\n",
       "    <tr>\n",
       "      <th>5</th>\n",
       "      <td>02484100E</td>\n",
       "      <td>1.0</td>\n",
       "      <td>1.0</td>\n",
       "      <td>0.0</td>\n",
       "      <td>0.0</td>\n",
       "      <td>B</td>\n",
       "    </tr>\n",
       "    <tr>\n",
       "      <th>7</th>\n",
       "      <td>03317900W</td>\n",
       "      <td>1.0</td>\n",
       "      <td>1.0</td>\n",
       "      <td>180000.0</td>\n",
       "      <td>1.0</td>\n",
       "      <td>C</td>\n",
       "    </tr>\n",
       "    <tr>\n",
       "      <th>8</th>\n",
       "      <td>03442400L</td>\n",
       "      <td>1.0</td>\n",
       "      <td>0.0</td>\n",
       "      <td>5000.0</td>\n",
       "      <td>1.0</td>\n",
       "      <td>C</td>\n",
       "    </tr>\n",
       "  </tbody>\n",
       "</table>\n",
       "</div>"
      ],
      "text/plain": [
       "         UEN  ONLINE_PRESENCE_IND  CORPORATE_URL_IND  ECOM_REV  ECOM_REV_IND  \\\n",
       "0  00119300K                  1.0                0.0       0.0           0.0   \n",
       "2  00277200X                  1.0                1.0  250000.0           1.0   \n",
       "5  02484100E                  1.0                1.0       0.0           0.0   \n",
       "7  03317900W                  1.0                1.0  180000.0           1.0   \n",
       "8  03442400L                  1.0                0.0    5000.0           1.0   \n",
       "\n",
       "  TRUE_IE  \n",
       "0       B  \n",
       "2       C  \n",
       "5       B  \n",
       "7       C  \n",
       "8       C  "
      ]
     },
     "execution_count": 6,
     "metadata": {},
     "output_type": "execute_result"
    }
   ],
   "source": [
    "check.head()"
   ]
  },
  {
   "cell_type": "code",
   "execution_count": null,
   "id": "19be9385-0ef1-4ed9-82ba-74a64ec2954f",
   "metadata": {},
   "outputs": [
    {
     "data": {
      "text/plain": [
       "2422"
      ]
     },
     "execution_count": 7,
     "metadata": {},
     "output_type": "execute_result"
    }
   ],
   "source": [
    "len(check)"
   ]
  },
  {
   "cell_type": "code",
   "execution_count": null,
   "id": "2193d6b4-b737-4135-baea-733d5bfd20ea",
   "metadata": {},
   "outputs": [
    {
     "data": {
      "text/plain": [
       "TRUE_IE\n",
       "B    0.626342\n",
       "C    0.373658\n",
       "Name: proportion, dtype: float64"
      ]
     },
     "execution_count": 8,
     "metadata": {},
     "output_type": "execute_result"
    }
   ],
   "source": [
    "check['TRUE_IE'].value_counts(normalize=True)"
   ]
  },
  {
   "cell_type": "markdown",
   "id": "c73d1449-ee21-41c3-9e1d-7864cbe31e33",
   "metadata": {},
   "source": [
    "## Manual website imputation with SOE data"
   ]
  },
  {
   "cell_type": "code",
   "execution_count": 5,
   "id": "d40e14b6-1268-4b1d-825b-4f243a983136",
   "metadata": {
    "collapsed": true,
    "jupyter": {
     "outputs_hidden": true
    },
    "tags": []
   },
   "outputs": [
    {
     "name": "stdout",
     "output_type": "stream",
     "text": [
      "   IE_IND  Base_IND  Remarks SOURCE IMPUTE_TYPE FINAL_IE        UEN  \\\n",
      "0       0         1      NaN    NaN         NaN        A  00016800M   \n",
      "1       0         1      NaN    NaN         NaN        A  00020100J   \n",
      "2       1         1      NaN   GMAP         NaN       C1  00022500B   \n",
      "3       1         1      NaN  ORBIS         NaN       B1  00027700B   \n",
      "4       0         1      NaN    NaN         NaN        A  00045500L   \n",
      "\n",
      "                   CLUSTER_DEFN  OR_CAT             EMP_SIZE  TOT_EMP  REF_YR  \\\n",
      "0                  11 Wholesale  <=1mil  01. Employees <= 10      1.0    2022   \n",
      "1  21 Other Services Industries  <=1mil  01. Employees <= 10      2.0    2022   \n",
      "2  21 Other Services Industries  <=1mil          Missing EMP      NaN    2022   \n",
      "3                  11 Wholesale  <=1mil  01. Employees <= 10      2.0    2022   \n",
      "4                  11 Wholesale  <=1mil          Missing EMP      NaN    2022   \n",
      "\n",
      "   EA_IND   FLAD_OR OWNERSHIP_IND  TOPLINE_IND  New_ENTP_IND    Age_Band  \\\n",
      "0     1.0  182227.0       1.LOCAL            1           NaN  > 30 Years   \n",
      "1     1.0  226970.0       1.LOCAL            1           NaN  > 30 Years   \n",
      "2     1.0   70400.0       1.LOCAL            1           NaN  > 30 Years   \n",
      "3     1.0  479282.0       1.LOCAL            1           NaN  > 30 Years   \n",
      "4     1.0  602854.0       1.LOCAL            1           NaN  > 30 Years   \n",
      "\n",
      "   NSME_IND  \n",
      "0         0  \n",
      "1         0  \n",
      "2         0  \n",
      "3         0  \n",
      "4         0  \n",
      "   IE_IND         UEN  REF_YR            CLUSTER_DEFN            OR_CAT  \\\n",
      "0       1  199601595D    2023            11 Wholesale      Above 100mil   \n",
      "1       1  201017488D    2023  17 Finance & Insurance      Above 100mil   \n",
      "2       1  198903166R    2023            11 Wholesale      Above 100mil   \n",
      "3       1  199904785Z    2023  17 Finance & Insurance  10mil -<= 100mil   \n",
      "4       1  197401143C    2023  17 Finance & Insurance      Above 100mil   \n",
      "\n",
      "   NSME_IND           Age_Band FINAL_IE SOURCE IE_compare  TOPLINE_IND  \n",
      "0         0  20 to <= 30 Years        B  ORBIS    website            1  \n",
      "1         0  10 to <= 20 Years        B  ORBIS    website            1  \n",
      "2         0         > 30 Years        C  ORBIS    website            1  \n",
      "3         0  20 to <= 30 Years        B  ORBIS    website            1  \n",
      "4         0         > 30 Years        C  ORBIS    website            1  \n"
     ]
    }
   ],
   "source": [
    "df2022, df2023 = imputation_v1('ie2022_imputed.csv', 'ie2023_imputed.csv')\n",
    "print(df2022.head())\n",
    "print(df2023.head())"
   ]
  },
  {
   "cell_type": "code",
   "execution_count": null,
   "id": "485f1430-d4c1-4889-b0c8-63b59d31701c",
   "metadata": {},
   "outputs": [],
   "source": [
    "# check functionality of imputation script. \n",
    "..."
   ]
  },
  {
   "cell_type": "markdown",
   "id": "a8e27117-46ed-4618-b6e5-4e74f7d73e89",
   "metadata": {},
   "source": [
    "## Merge in keywords to Train & Test sets\n",
    "- **Training set:** SOE dataset\n",
    "- **Test/Inference set:** IE2022, IE2023 datasets"
   ]
  },
  {
   "cell_type": "code",
   "execution_count": null,
   "id": "57535d82-4b99-4f51-a5ea-b4dbdc774372",
   "metadata": {},
   "outputs": [],
   "source": []
  }
 ],
 "metadata": {
  "kernelspec": {
   "display_name": "Python 3 (ipykernel)",
   "language": "python",
   "name": "python3"
  },
  "language_info": {
   "codemirror_mode": {
    "name": "ipython",
    "version": 3
   },
   "file_extension": ".py",
   "mimetype": "text/x-python",
   "name": "python",
   "nbconvert_exporter": "python",
   "pygments_lexer": "ipython3",
   "version": "3.9.15"
  }
 },
 "nbformat": 4,
 "nbformat_minor": 5
}
