{
 "cells": [
  {
   "cell_type": "code",
   "execution_count": 4,
   "id": "89681848-5da8-41ad-a0a2-1fc2bfe6a69f",
   "metadata": {},
   "outputs": [],
   "source": [
    "# auto-reload functions\n",
    "%load_ext autoreload\n",
    "%autoreload 2"
   ]
  },
  {
   "cell_type": "code",
   "execution_count": 6,
   "id": "70fad42e-84f3-4eb1-939e-6c2e7608533a",
   "metadata": {
    "ExecuteTime": {
     "end_time": "2024-09-15T03:19:07.151005Z",
     "start_time": "2024-09-15T03:19:07.017762Z"
    }
   },
   "outputs": [],
   "source": [
    "# Import necessary modules\n",
    "import sys\n",
    "sys.path.append('../src')  # Add the src directory to the system path\n",
    "from dataset import load_data, save_data"
   ]
  },
  {
   "cell_type": "code",
   "execution_count": null,
   "id": "7ec17e0d-4815-45ae-8450-3d866f15b197",
   "metadata": {},
   "outputs": [],
   "source": []
  }
 ],
 "metadata": {
  "kernelspec": {
   "display_name": "Python 3 (ipykernel)",
   "language": "python",
   "name": "python3"
  },
  "language_info": {
   "codemirror_mode": {
    "name": "ipython",
    "version": 3
   },
   "file_extension": ".py",
   "mimetype": "text/x-python",
   "name": "python",
   "nbconvert_exporter": "python",
   "pygments_lexer": "ipython3",
   "version": "3.9.15"
  }
 },
 "nbformat": 4,
 "nbformat_minor": 5
}
