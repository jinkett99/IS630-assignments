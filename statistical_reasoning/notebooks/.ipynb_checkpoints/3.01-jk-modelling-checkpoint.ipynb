{
 "cells": [
  {
   "cell_type": "code",
   "execution_count": 1,
   "id": "a993489e-1bcd-4d54-a6ae-7dc18b100750",
   "metadata": {
    "tags": []
   },
   "outputs": [],
   "source": [
    "# add src dir to sys.path\n",
    "import sys\n",
    "sys.path.append('../src')\n",
    "# sys.path.append('../data/raw')"
   ]
  },
  {
   "cell_type": "code",
   "execution_count": 2,
   "id": "7c28a6c4-d78d-4683-8911-6fbb7f6baa3e",
   "metadata": {
    "tags": []
   },
   "outputs": [
    {
     "name": "stdout",
     "output_type": "stream",
     "text": [
      "['/nas-p1/dosfs/BSD/FLAD/End_User/JKYEE/IE2023/IE_project/notebooks', '/opt/python/3.9.15/lib/python39.zip', '/opt/python/3.9.15/lib/python3.9', '/opt/python/3.9.15/lib/python3.9/lib-dynload', '', '/home/jkyee/.local/lib/python3.9/site-packages', '/opt/python/3.9.15/lib/python3.9/site-packages', '../src']\n"
     ]
    }
   ],
   "source": [
    "print(sys.path)"
   ]
  },
  {
   "cell_type": "markdown",
   "id": "fb57dd00-c10c-49f2-8afb-3b4678da8da8",
   "metadata": {},
   "source": [
    "## Random Forest Evaluation\n",
    "- \"modelv1.pkl\" is the most 'balanced' model (0.4) with precision & recall while \"modelv2.pkl\" (0.42) has higher FN rates (classifies more actual \"C\"s as \"B\"s)\n",
    "- \"modelv3.pkl\": Classification threshold 0.35 - Lowest FN rates (i.e. predicts the most \"C\"s)"
   ]
  },
  {
   "cell_type": "code",
   "execution_count": 14,
   "id": "0fccf618-f427-4307-94a4-8252a1de2909",
   "metadata": {
    "tags": []
   },
   "outputs": [],
   "source": [
    "%load_ext autoreload\n",
    "%autoreload 2"
   ]
  },
  {
   "cell_type": "code",
   "execution_count": 15,
   "id": "df9e7f44-019f-4eb1-a6be-6e2ffb96ab35",
   "metadata": {
    "tags": []
   },
   "outputs": [],
   "source": [
    "from modelling import train_eval_model"
   ]
  },
  {
   "cell_type": "code",
   "execution_count": 16,
   "id": "d2567310-1671-4e60-ac72-890309aee34c",
   "metadata": {
    "tags": []
   },
   "outputs": [
    {
     "name": "stdout",
     "output_type": "stream",
     "text": [
      "Accuracy: 0.6209\n",
      "Precision: 0.5223\n",
      "Recall: 0.7069\n",
      "F1 score: 0.6007\n",
      "ROC-AUC: 0.7076\n",
      "Confusion Matrix:\n"
     ]
    },
    {
     "data": {
      "image/png": "[encoded data removed]",
      "text/plain": [
       "<Figure size 800x500 with 2 Axes>"
      ]
     },
     "metadata": {},
     "output_type": "display_data"
    },
    {
     "name": "stdout",
     "output_type": "stream",
     "text": [
      "Classification Report:\n",
      "              precision    recall  f1-score   support\n",
      "\n",
      "           B       0.74      0.56      0.64       343\n",
      "           C       0.52      0.71      0.60       232\n",
      "\n",
      "    accuracy                           0.62       575\n",
      "   macro avg       0.63      0.63      0.62       575\n",
      "weighted avg       0.65      0.62      0.62       575\n",
      "\n"
     ]
    }
   ],
   "source": [
    "train_eval_model()"
   ]
  },
  {
   "cell_type": "markdown",
   "id": "f9294fd6-36ba-45a4-baae-547b154af47a",
   "metadata": {},
   "source": [
    "## Inference on IE 2022 Dataset"
   ]
  },
  {
   "cell_type": "code",
   "execution_count": 8,
   "id": "83e0b33e-3a54-4ce1-b0cc-26062c1179e8",
   "metadata": {
    "tags": []
   },
   "outputs": [
    {
     "name": "stdout",
     "output_type": "stream",
     "text": [
      "The autoreload extension is already loaded. To reload it, use:\n",
      "  %reload_ext autoreload\n"
     ]
    }
   ],
   "source": [
    "%load_ext autoreload\n",
    "%autoreload 2"
   ]
  },
  {
   "cell_type": "code",
   "execution_count": 13,
   "id": "41c63c68-3752-45d3-8ee9-ede89cd50bac",
   "metadata": {
    "tags": []
   },
   "outputs": [],
   "source": [
    "from inference import run_inference"
   ]
  },
  {
   "cell_type": "code",
   "execution_count": 14,
   "id": "116fd0cd-eba2-4553-9777-47088076814b",
   "metadata": {
    "tags": []
   },
   "outputs": [],
   "source": [
    "run_inference()"
   ]
  },
  {
   "cell_type": "markdown",
   "id": "df96f05a-ca70-4854-bccd-698087d7c682",
   "metadata": {},
   "source": [
    "## Update IE2022 Original Dataset with NEW inference"
   ]
  },
  {
   "cell_type": "code",
   "execution_count": 15,
   "id": "9c9d66a6-0f3a-465f-94c5-35045be4871b",
   "metadata": {
    "tags": []
   },
   "outputs": [],
   "source": [
    "from dataset import merge_inference_with_indicators"
   ]
  },
  {
   "cell_type": "code",
   "execution_count": 16,
   "id": "3e4cac40-41c5-4e07-8d20-e6149bf866fd",
   "metadata": {
    "tags": []
   },
   "outputs": [],
   "source": [
    "df = merge_inference_with_indicators()"
   ]
  },
  {
   "cell_type": "code",
   "execution_count": 17,
   "id": "ad623199-5ccd-499a-9692-2193164212ee",
   "metadata": {
    "tags": []
   },
   "outputs": [
    {
     "data": {
      "text/plain": [
       "FINAL_IE\n",
       "A    277026\n",
       "B    111041\n",
       "C     49422\n",
       "Name: count, dtype: int64"
      ]
     },
     "execution_count": 17,
     "metadata": {},
     "output_type": "execute_result"
    }
   ],
   "source": [
    "df[\"FINAL_IE\"].value_counts()"
   ]
  },
  {
   "cell_type": "code",
   "execution_count": null,
   "id": "56854342-fe1c-4a4c-8d75-1f95535732ea",
   "metadata": {},
   "outputs": [],
   "source": []
  }
 ],
 "metadata": {
  "kernelspec": {
   "display_name": "Python 3 (ipykernel)",
   "language": "python",
   "name": "python3"
  },
  "language_info": {
   "codemirror_mode": {
    "name": "ipython",
    "version": 3
   },
   "file_extension": ".py",
   "mimetype": "text/x-python",
   "name": "python",
   "nbconvert_exporter": "python",
   "pygments_lexer": "ipython3",
   "version": "3.9.15"
  }
 },
 "nbformat": 4,
 "nbformat_minor": 5
}
