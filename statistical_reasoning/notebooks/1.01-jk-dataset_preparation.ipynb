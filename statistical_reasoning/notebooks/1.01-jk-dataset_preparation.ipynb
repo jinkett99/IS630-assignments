{
 "cells": [
  {
   "metadata": {},
   "cell_type": "markdown",
   "source": [
    "## **Dataset preparation steps**\n",
    "- Determine target variables & analysis variables*\n",
    "- Data binning\n",
    "- ..."
   ],
   "id": "a86ac2076856445b"
  },
  {
   "metadata": {},
   "cell_type": "markdown",
   "source": [
    "### Binning \"Year of Experience\" and \"In Company Years\"\n",
    "- Looking at descriptive statistics (mean, min, max, percentiles), company ABC consists of many experienced employees (mean of 19 years)\n",
    "- Employees also tend to stay for a long period in ABC (mean stay in company ~10 years)\n",
    "- Decide on appropriate bins for these analysis variables. "
   ],
   "id": "3071545810a28931"
  },
  {
   "metadata": {},
   "cell_type": "code",
   "outputs": [],
   "execution_count": null,
   "source": [
    "# bin data into groups for analysis. \n",
    "# Eg. Analysis variable: \"Year of experience\", Target variable: \"Salary\" or \"Gross salary\". \n",
    "# Purpose: to study trends relating to whether salary increases proportionally to years of experience. \n",
    "\n"
   ],
   "id": "933e6a4ab40346f1"
  }
 ],
 "metadata": {
  "kernelspec": {
   "display_name": "Python 3",
   "language": "python",
   "name": "python3"
  },
  "language_info": {
   "codemirror_mode": {
    "name": "ipython",
    "version": 2
   },
   "file_extension": ".py",
   "mimetype": "text/x-python",
   "name": "python",
   "nbconvert_exporter": "python",
   "pygments_lexer": "ipython2",
   "version": "2.7.6"
  }
 },
 "nbformat": 4,
 "nbformat_minor": 5
}
